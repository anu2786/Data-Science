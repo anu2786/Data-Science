{
 "cells": [
  {
   "cell_type": "code",
   "execution_count": 4,
   "id": "ae039bf7-fa9b-4d66-84da-f712417e66f8",
   "metadata": {},
   "outputs": [
    {
     "name": "stdout",
     "output_type": "stream",
     "text": [
      "Collecting textblob\n",
      "  Downloading textblob-0.18.0.post0-py3-none-any.whl.metadata (4.5 kB)\n",
      "Requirement already satisfied: nltk>=3.8 in c:\\users\\anu\\anaconda3\\lib\\site-packages (from textblob) (3.8.1)\n",
      "Requirement already satisfied: click in c:\\users\\anu\\anaconda3\\lib\\site-packages (from nltk>=3.8->textblob) (8.1.7)\n",
      "Requirement already satisfied: joblib in c:\\users\\anu\\anaconda3\\lib\\site-packages (from nltk>=3.8->textblob) (1.2.0)\n",
      "Requirement already satisfied: regex>=2021.8.3 in c:\\users\\anu\\anaconda3\\lib\\site-packages (from nltk>=3.8->textblob) (2023.10.3)\n",
      "Requirement already satisfied: tqdm in c:\\users\\anu\\anaconda3\\lib\\site-packages (from nltk>=3.8->textblob) (4.65.0)\n",
      "Requirement already satisfied: colorama in c:\\users\\anu\\anaconda3\\lib\\site-packages (from click->nltk>=3.8->textblob) (0.4.6)\n",
      "Downloading textblob-0.18.0.post0-py3-none-any.whl (626 kB)\n",
      "   ---------------------------------------- 0.0/626.3 kB ? eta -:--:--\n",
      "   - ------------------------------------- 20.5/626.3 kB 640.0 kB/s eta 0:00:01\n",
      "   ---- ---------------------------------- 71.7/626.3 kB 975.2 kB/s eta 0:00:01\n",
      "   ------------------------------ --------- 481.3/626.3 kB 3.8 MB/s eta 0:00:01\n",
      "   ---------------------------------------- 626.3/626.3 kB 4.4 MB/s eta 0:00:00\n",
      "Installing collected packages: textblob\n",
      "Successfully installed textblob-0.18.0.post0\n",
      "Note: you may need to restart the kernel to use updated packages.\n"
     ]
    }
   ],
   "source": [
    "pip install textblob"
   ]
  },
  {
   "cell_type": "code",
   "execution_count": 6,
   "id": "0059782c-4a50-4447-99ed-045f965e7325",
   "metadata": {},
   "outputs": [
    {
     "name": "stderr",
     "output_type": "stream",
     "text": [
      "[nltk_data] Downloading package brown to\n",
      "[nltk_data]     C:\\Users\\ANU\\AppData\\Roaming\\nltk_data...\n",
      "[nltk_data]   Package brown is already up-to-date!\n",
      "[nltk_data] Downloading package punkt to\n",
      "[nltk_data]     C:\\Users\\ANU\\AppData\\Roaming\\nltk_data...\n",
      "[nltk_data]   Package punkt is already up-to-date!\n",
      "[nltk_data] Downloading package wordnet to\n",
      "[nltk_data]     C:\\Users\\ANU\\AppData\\Roaming\\nltk_data...\n",
      "[nltk_data]   Package wordnet is already up-to-date!\n",
      "[nltk_data] Downloading package averaged_perceptron_tagger to\n",
      "[nltk_data]     C:\\Users\\ANU\\AppData\\Roaming\\nltk_data...\n",
      "[nltk_data]   Package averaged_perceptron_tagger is already up-to-\n",
      "[nltk_data]       date!\n",
      "[nltk_data] Downloading package conll2000 to\n",
      "[nltk_data]     C:\\Users\\ANU\\AppData\\Roaming\\nltk_data...\n",
      "[nltk_data]   Package conll2000 is already up-to-date!\n",
      "[nltk_data] Downloading package movie_reviews to\n",
      "[nltk_data]     C:\\Users\\ANU\\AppData\\Roaming\\nltk_data...\n",
      "[nltk_data]   Package movie_reviews is already up-to-date!\n"
     ]
    }
   ],
   "source": [
    "from textblob import TextBlob\n",
    "from textblob.download_corpora import download_all\n",
    "\n",
    "# Download all corpora\n",
    "download_all()"
   ]
  },
  {
   "cell_type": "code",
   "execution_count": 7,
   "id": "79865e28-9eec-4c38-a7a9-316617f56fbf",
   "metadata": {},
   "outputs": [
    {
     "name": "stdout",
     "output_type": "stream",
     "text": [
      "The Best Restaurant Based on Reviews and Ratings:\n",
      "Name: Restaurant 54\n",
      "Rating: 4.746618350849976\n",
      "Review Count: 85\n",
      "Sample Review: Best Indian food I've had in a while!\n",
      "Overall Score: 0.974934459466239\n"
     ]
    }
   ],
   "source": [
    "import pandas as pd\n",
    "from textblob import TextBlob\n",
    "\n",
    "# Load the dataset\n",
    "data_file = r\"C:\\Users\\ANU\\Desktop\\My portfolio\\Projects\\indian restaurant analysis\\Hypothetical_Indian_Restaurant_Data_in_Auckland.csv\"  # Replace with your dataset file path\n",
    "df = pd.read_csv(data_file)\n",
    "\n",
    "# Function to calculate sentiment polarity\n",
    "def get_sentiment(review):\n",
    "    analysis = TextBlob(review)\n",
    "    return analysis.sentiment.polarity\n",
    "\n",
    "# Apply sentiment analysis\n",
    "df['Sentiment Score'] = df['Review'].apply(get_sentiment)\n",
    "\n",
    "# Normalize ratings and sentiment scores for equal weight\n",
    "max_rating = df['Rating'].max()\n",
    "max_sentiment = df['Sentiment Score'].max()\n",
    "\n",
    "df['Normalized Rating'] = df['Rating'] / max_rating\n",
    "df['Normalized Sentiment'] = df['Sentiment Score'] / max_sentiment\n",
    "\n",
    "# Calculate a combined score for ranking\n",
    "df['Overall Score'] = (df['Normalized Rating'] + df['Normalized Sentiment']) / 2\n",
    "\n",
    "# Find the best restaurant based on the overall score\n",
    "best_restaurant = df.loc[df['Overall Score'].idxmax()]\n",
    "\n",
    "# Display the best restaurant\n",
    "print(\"The Best Restaurant Based on Reviews and Ratings:\")\n",
    "print(f\"Name: {best_restaurant['Restaurant Name']}\")\n",
    "print(f\"Rating: {best_restaurant['Rating']}\")\n",
    "print(f\"Review Count: {best_restaurant['Review Count']}\")\n",
    "print(f\"Sample Review: {best_restaurant['Review']}\")\n",
    "print(f\"Overall Score: {best_restaurant['Overall Score']}\")\n"
   ]
  },
  {
   "cell_type": "code",
   "execution_count": null,
   "id": "cb252e65-2c23-495d-b565-558d74bb86e8",
   "metadata": {},
   "outputs": [],
   "source": []
  },
  {
   "cell_type": "code",
   "execution_count": null,
   "id": "8a288b15-465c-4761-81b9-b4a58c3d5257",
   "metadata": {},
   "outputs": [],
   "source": []
  }
 ],
 "metadata": {
  "kernelspec": {
   "display_name": "Python 3 (ipykernel)",
   "language": "python",
   "name": "python3"
  },
  "language_info": {
   "codemirror_mode": {
    "name": "ipython",
    "version": 3
   },
   "file_extension": ".py",
   "mimetype": "text/x-python",
   "name": "python",
   "nbconvert_exporter": "python",
   "pygments_lexer": "ipython3",
   "version": "3.11.7"
  }
 },
 "nbformat": 4,
 "nbformat_minor": 5
}
