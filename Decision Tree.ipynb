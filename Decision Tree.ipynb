{
 "cells": [
  {
   "cell_type": "code",
   "execution_count": null,
   "id": "93238755-3188-4c12-8c99-d9ee89f814d0",
   "metadata": {},
   "outputs": [],
   "source": [
    "# first dataset for website-phishing.csv"
   ]
  },
  {
   "cell_type": "code",
   "execution_count": 31,
   "id": "ea556950-73b0-42af-9588-f04d85d474a7",
   "metadata": {},
   "outputs": [],
   "source": [
    "import pandas as pd\n",
    "\n",
    "# Load the dataset\n",
    "df = pd.read_csv(\"website-phishing.csv\")\n"
   ]
  },
  {
   "cell_type": "code",
   "execution_count": 32,
   "id": "f0eabce4-d04d-4fec-bc4c-3b346ba1b127",
   "metadata": {},
   "outputs": [
    {
     "name": "stdout",
     "output_type": "stream",
     "text": [
      "Missing Values:\n",
      "having_IP_Address               0\n",
      " URL_Length                     0\n",
      " Shortining_Service             0\n",
      " having_At_Symbol               0\n",
      " double_slash_redirecting       0\n",
      " Prefix_Suffix                  0\n",
      " having_Sub_Domain              0\n",
      " SSLfinal_State                 0\n",
      " Domain_registeration_length    0\n",
      " Favicon                        0\n",
      " port                           0\n",
      " HTTPS_token                    0\n",
      " Request_URL                    0\n",
      " URL_of_Anchor                  0\n",
      " Links_in_tags                  0\n",
      " SFH                            0\n",
      " Submitting_to_email            0\n",
      " Abnormal_URL                   0\n",
      " Redirect                       0\n",
      " on_mouseover                   0\n",
      " RightClick                     0\n",
      " popUpWidnow                    0\n",
      " Iframe                         0\n",
      " age_of_domain                  0\n",
      " DNSRecord                      0\n",
      " web_traffic                    0\n",
      " Page_Rank                      0\n",
      " Google_Index                   0\n",
      " Links_pointing_to_page         0\n",
      " Statistical_report             0\n",
      "  Class                         0\n",
      "dtype: int64\n"
     ]
    }
   ],
   "source": [
    "# Check for missing values\n",
    "missing_values = df.isnull().sum()\n",
    "print(\"Missing Values:\")\n",
    "print(missing_values)"
   ]
  },
  {
   "cell_type": "code",
   "execution_count": 34,
   "id": "98fa4ae9-156b-4c77-b334-a08ad0f1d1d1",
   "metadata": {},
   "outputs": [
    {
     "name": "stdout",
     "output_type": "stream",
     "text": [
      "Accuracy of Decision Stump: 0.8937132519222072\n"
     ]
    }
   ],
   "source": [
    "import pandas as pd\n",
    "from sklearn.model_selection import train_test_split\n",
    "from sklearn.tree import DecisionTreeClassifier\n",
    "from sklearn.metrics import accuracy_score\n",
    "\n",
    "# Load your custom dataset\n",
    "df = pd.read_csv(\"website-phishing.csv\")\n",
    "\n",
    "# Assume the last column is the target variable, and the rest are features\n",
    "X = df.iloc[:, :-1]\n",
    "y = df.iloc[:, -1]\n",
    "\n",
    "# Split the data into training and testing sets\n",
    "X_train, X_test, y_train, y_test = train_test_split(X, y, test_size=0.2, random_state=42)\n",
    "\n",
    "# (1) Implement a Decision Stump\n",
    "# A decision stump is a decision tree with only one split\n",
    "decision_stump = DecisionTreeClassifier(max_depth=1)\n",
    "decision_stump.fit(X_train, y_train)\n",
    "y_pred_stump = decision_stump.predict(X_test)\n",
    "accuracy_stump = accuracy_score(y_test, y_pred_stump)\n",
    "print(\"Accuracy of Decision Stump:\", accuracy_stump)"
   ]
  },
  {
   "cell_type": "code",
   "execution_count": 35,
   "id": "2d126b73-3b17-4ed7-ac36-fc96fb5cdcb6",
   "metadata": {},
   "outputs": [
    {
     "name": "stdout",
     "output_type": "stream",
     "text": [
      "Accuracy of Unpruned Decision Tree: 0.9606512890094979\n"
     ]
    }
   ],
   "source": [
    "# (2) Implement an Unpruned Decision Tree\n",
    "# An unpruned decision tree is a decision tree without any restrictions on its growth\n",
    "unpruned_tree = DecisionTreeClassifier()\n",
    "unpruned_tree.fit(X_train, y_train)\n",
    "y_pred_unpruned = unpruned_tree.predict(X_test)\n",
    "accuracy_unpruned = accuracy_score(y_test, y_pred_unpruned)\n",
    "print(\"Accuracy of Unpruned Decision Tree:\", accuracy_unpruned)"
   ]
  },
  {
   "cell_type": "code",
   "execution_count": 36,
   "id": "f25f0abb-9dd4-4783-9a2e-f2b40fac33fb",
   "metadata": {},
   "outputs": [
    {
     "name": "stdout",
     "output_type": "stream",
     "text": [
      "Accuracy of Pruned Decision Tree: 0.9140660334690185\n"
     ]
    }
   ],
   "source": [
    "# (3) Implement a Pruned Decision Tree\n",
    "# A pruned decision tree is a decision tree with some nodes removed to avoid overfitting\n",
    "pruned_tree = DecisionTreeClassifier(max_depth=3)  # Limit the depth for pruning\n",
    "pruned_tree.fit(X_train, y_train)\n",
    "y_pred_pruned = pruned_tree.predict(X_test)\n",
    "accuracy_pruned = accuracy_score(y_test, y_pred_pruned)\n",
    "print(\"Accuracy of Pruned Decision Tree:\", accuracy_pruned)"
   ]
  },
  {
   "cell_type": "code",
   "execution_count": 37,
   "id": "e3c33b00-7f42-4404-8c6c-c579a41049b0",
   "metadata": {},
   "outputs": [
    {
     "name": "stdout",
     "output_type": "stream",
     "text": [
      "Best Depth: 5\n"
     ]
    }
   ],
   "source": [
    "from sklearn.model_selection import GridSearchCV\n",
    "\n",
    "# Define the parameter grid\n",
    "param_grid = {'max_depth': [1, 2, 3, 4, 5]}  \n",
    "\n",
    "# Initialize the decision tree classifier\n",
    "decision_tree_cv = DecisionTreeClassifier()\n",
    "\n",
    "# Perform grid search using cross-validation\n",
    "grid_search = GridSearchCV(decision_tree_cv, param_grid, cv=5)  # 5-fold cross-validation\n",
    "grid_search.fit(X_train, y_train)\n",
    "\n",
    "# Get the best hyperparameters\n",
    "best_depth = grid_search.best_params_['max_depth']\n",
    "print(\"Best Depth:\", best_depth)"
   ]
  },
  {
   "cell_type": "markdown",
   "id": "32e4f939-4dd7-4cb9-9ea4-a7fe5bf6b986",
   "metadata": {},
   "source": [
    "\n",
    "\n",
    "\n",
    "#second dataset for BCP.csv"
   ]
  },
  {
   "cell_type": "code",
   "execution_count": null,
   "id": "a7986ef8-5d7f-4f3c-a561-c882490479ad",
   "metadata": {},
   "outputs": [],
   "source": [
    "import pandas as pd\n",
    "\n",
    "# Load the dataset\n",
    "df = pd.read_csv(\"BCP.csv\")"
   ]
  },
  {
   "cell_type": "code",
   "execution_count": 2,
   "id": "9f8dccc9-0575-4171-9bba-35fdf37a44c6",
   "metadata": {},
   "outputs": [
    {
     "name": "stdout",
     "output_type": "stream",
     "text": [
      "Missing Values:\n",
      "Sample code number             0\n",
      "Clump Thickness                0\n",
      "Uniformity of Cell Size        0\n",
      "Uniformity of Cell Shape       0\n",
      "Marginal Adhesion              0\n",
      "Single Epithelial Cell Size    0\n",
      "Bare Nuclei                    0\n",
      "Bland Chromatin                0\n",
      "Normal Nucleoli                0\n",
      "Mitoses                        0\n",
      "Class                          0\n",
      "dtype: int64\n"
     ]
    }
   ],
   "source": [
    "# Check for missing values\n",
    "missing_values = df.isnull().sum()\n",
    "print(\"Missing Values:\")\n",
    "print(missing_values)"
   ]
  },
  {
   "cell_type": "code",
   "execution_count": 6,
   "id": "0f2c2dc9-0f43-406b-adc8-60bcf61e353c",
   "metadata": {},
   "outputs": [
    {
     "name": "stdout",
     "output_type": "stream",
     "text": [
      "Accuracy of Decision Stump: 0.8759124087591241\n"
     ]
    }
   ],
   "source": [
    "import pandas as pd\n",
    "from sklearn.model_selection import train_test_split\n",
    "from sklearn.tree import DecisionTreeClassifier\n",
    "from sklearn.metrics import accuracy_score\n",
    "\n",
    "# Load your custom dataset\n",
    "df = pd.read_csv(\"BCP.csv\")\n",
    "\n",
    "# Assume the last column is the target variable, and the rest are features\n",
    "X = df.iloc[:, :-1]\n",
    "y = df.iloc[:, -1]\n",
    "\n",
    "# Split the data into training and testing sets\n",
    "X_train, X_test, y_train, y_test = train_test_split(X, y, test_size=0.2, random_state=42)\n",
    "\n",
    "# (1) Implement a Decision Stump\n",
    "# A decision stump is a decision tree with only one split\n",
    "decision_stump = DecisionTreeClassifier(max_depth=1)\n",
    "decision_stump.fit(X_train, y_train)\n",
    "y_pred_stump = decision_stump.predict(X_test)\n",
    "accuracy_stump = accuracy_score(y_test, y_pred_stump)\n",
    "print(\"Accuracy of Decision Stump:\", accuracy_stump)\n"
   ]
  },
  {
   "cell_type": "code",
   "execution_count": 7,
   "id": "e2a914a6-bb0e-40fd-a586-e210e08ea6ad",
   "metadata": {},
   "outputs": [
    {
     "name": "stdout",
     "output_type": "stream",
     "text": [
      "Accuracy of Unpruned Decision Tree: 0.9197080291970803\n"
     ]
    }
   ],
   "source": [
    "# (2) Implement an Unpruned Decision Tree\n",
    "# An unpruned decision tree is a decision tree without any restrictions on its growth\n",
    "unpruned_tree = DecisionTreeClassifier()\n",
    "unpruned_tree.fit(X_train, y_train)\n",
    "y_pred_unpruned = unpruned_tree.predict(X_test)\n",
    "accuracy_unpruned = accuracy_score(y_test, y_pred_unpruned)\n",
    "print(\"Accuracy of Unpruned Decision Tree:\", accuracy_unpruned)"
   ]
  },
  {
   "cell_type": "code",
   "execution_count": 8,
   "id": "853e718f-51fc-4ed9-8fb6-0794f00c6cd0",
   "metadata": {},
   "outputs": [
    {
     "name": "stdout",
     "output_type": "stream",
     "text": [
      "Accuracy of Pruned Decision Tree: 0.927007299270073\n"
     ]
    }
   ],
   "source": [
    "# (3) Implement a Pruned Decision Tree\n",
    "# A pruned decision tree is a decision tree with some nodes removed to avoid overfitting\n",
    "pruned_tree = DecisionTreeClassifier(max_depth=3)  # Limit the depth for pruning\n",
    "pruned_tree.fit(X_train, y_train)\n",
    "y_pred_pruned = pruned_tree.predict(X_test)\n",
    "accuracy_pruned = accuracy_score(y_test, y_pred_pruned)\n",
    "print(\"Accuracy of Pruned Decision Tree:\", accuracy_pruned)"
   ]
  },
  {
   "cell_type": "code",
   "execution_count": 10,
   "id": "d6ca8a2c-2e9e-48e7-a3ed-71848fa36dee",
   "metadata": {},
   "outputs": [
    {
     "name": "stdout",
     "output_type": "stream",
     "text": [
      "Best Depth: 3\n"
     ]
    }
   ],
   "source": [
    "from sklearn.model_selection import GridSearchCV\n",
    "\n",
    "# Define the parameter grid\n",
    "param_grid = {'max_depth': [1, 2, 3, 4, 5]}  \n",
    "\n",
    "# Initialize the decision tree classifier\n",
    "decision_tree_cv = DecisionTreeClassifier()\n",
    "\n",
    "# Perform grid search using cross-validation\n",
    "grid_search = GridSearchCV(decision_tree_cv, param_grid, cv=5)  # 5-fold cross-validation\n",
    "grid_search.fit(X_train, y_train)\n",
    "\n",
    "# Get the best hyperparameters\n",
    "best_depth = grid_search.best_params_['max_depth']\n",
    "print(\"Best Depth:\", best_depth)"
   ]
  },
  {
   "cell_type": "markdown",
   "id": "b982399e-d4fc-44bb-8154-ca9f25b16efa",
   "metadata": {},
   "source": [
    "#3rd dataset for arrhythmia.csv"
   ]
  },
  {
   "cell_type": "code",
   "execution_count": 2,
   "id": "431f0cad-4a7c-43c0-bfe0-b381ec416397",
   "metadata": {},
   "outputs": [],
   "source": [
    "import pandas as pd\n",
    "# Load the dataset\n",
    "df = pd.read_csv(\"arrhythmia.csv\")"
   ]
  },
  {
   "cell_type": "code",
   "execution_count": 3,
   "id": "e0243d84-bc5d-48df-9552-092cf4336066",
   "metadata": {},
   "outputs": [
    {
     "name": "stdout",
     "output_type": "stream",
     "text": [
      "Missing Values:\n",
      "age              0\n",
      " sex             0\n",
      " height          0\n",
      " weight          0\n",
      " QRSduration     0\n",
      "                ..\n",
      "chV6_PwaveAmp    0\n",
      "chV6_TwaveAmp    0\n",
      "chV6_QRSA        0\n",
      "chV6_QRSTA       0\n",
      "class            0\n",
      "Length: 280, dtype: int64\n"
     ]
    }
   ],
   "source": [
    "# Check for missing values\n",
    "missing_values = df.isnull().sum()\n",
    "print(\"Missing Values:\")\n",
    "print(missing_values)"
   ]
  },
  {
   "cell_type": "code",
   "execution_count": 4,
   "id": "6f6d2d5f-b19e-4354-8819-e6bcfabcb875",
   "metadata": {},
   "outputs": [],
   "source": [
    "# Handle missing values\n",
    "# Option 1: Imputation - fill missing values with mean, median, or mode\n",
    "# For numeric columns, fill missing values with mean\n",
    "numeric_columns = df.select_dtypes(include='number').columns\n",
    "df[numeric_columns] = df[numeric_columns].fillna(df[numeric_columns].mean())\n",
    "\n",
    "# Save the cleaned dataset to a new CSV file\n",
    "df.to_csv(\"cleaned_arrhythmia.csv\", index=False)"
   ]
  },
  {
   "cell_type": "code",
   "execution_count": null,
   "id": "9d2cf72d-014d-4743-897f-5aa6cb1f338d",
   "metadata": {},
   "outputs": [],
   "source": []
  }
 ],
 "metadata": {
  "kernelspec": {
   "display_name": "Python 3 (ipykernel)",
   "language": "python",
   "name": "python3"
  },
  "language_info": {
   "codemirror_mode": {
    "name": "ipython",
    "version": 3
   },
   "file_extension": ".py",
   "mimetype": "text/x-python",
   "name": "python",
   "nbconvert_exporter": "python",
   "pygments_lexer": "ipython3",
   "version": "3.11.7"
  }
 },
 "nbformat": 4,
 "nbformat_minor": 5
}
